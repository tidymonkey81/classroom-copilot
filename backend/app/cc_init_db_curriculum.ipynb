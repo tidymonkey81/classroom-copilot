{
 "cells": [
  {
   "cell_type": "code",
   "execution_count": null,
   "metadata": {},
   "outputs": [],
   "source": [
    "from dotenv import load_dotenv, find_dotenv\n",
    "load_dotenv(find_dotenv())\n",
    "\n",
    "import modules.logger_tool as logger\n",
    "import os\n",
    "\n",
    "os.environ['LOG_NAME'] = 'science'\n",
    "os.environ['LOG_DIR'] = 'logs'\n",
    "os.environ['LOG_LEVEL'] = 'DEBUG'\n",
    "\n",
    "logging = logger.get_logger(os.environ['LOG_NAME'], log_level=os.environ['LOG_LEVEL'], log_path=os.environ['LOG_DIR'], log_file=os.environ['LOG_NAME'])\n"
   ]
  },
  {
   "cell_type": "code",
   "execution_count": null,
   "metadata": {},
   "outputs": [],
   "source": [
    "import modules.database.schemas.curriculum_neo as neo_curriculum\n",
    "import modules.database.schemas.relationships.curricular_relationships as neo_relationships\n",
    "import modules.database.tools.xl_planner_tools as planner\n",
    "import modules.database.tools.neontology_tools as neon\n",
    "import modules.database.tools.neo4j_driver_tools as driver_tools\n",
    "import modules.database.tools.neo4j_session_tools as session_tools\n",
    "\n",
    "import requests\n",
    "from pydantic import ValidationError\n"
   ]
  },
  {
   "cell_type": "code",
   "execution_count": null,
   "metadata": {},
   "outputs": [],
   "source": [
    "db_name = 'science'"
   ]
  },
  {
   "cell_type": "code",
   "execution_count": null,
   "metadata": {},
   "outputs": [],
   "source": [
    "url = 'http://localhost:9500/database/admin/stop-database'\n",
    "data = {'db_name': db_name}\n",
    "response = requests.post(url, json=data)\n",
    "logging.info(response.text)\n",
    "\n",
    "url = 'http://localhost:9500/database/admin/drop-database'\n",
    "data = {'db_name': db_name}\n",
    "response = requests.post(url, json=data)\n",
    "logging.info(response.text)"
   ]
  },
  {
   "cell_type": "code",
   "execution_count": null,
   "metadata": {},
   "outputs": [],
   "source": [
    "url = 'http://localhost:9500/database/admin/create-database'\n",
    "params = {'db_name': db_name}\n",
    "response = requests.post(url, params=params)\n",
    "logging.info(response.text)"
   ]
  },
  {
   "cell_type": "code",
   "execution_count": null,
   "metadata": {},
   "outputs": [],
   "source": [
    "driver = driver_tools.get_driver(database=db_name)\n"
   ]
  },
  {
   "cell_type": "code",
   "execution_count": null,
   "metadata": {},
   "outputs": [],
   "source": [
    "neon.init_neo4j_connection()\n"
   ]
  },
  {
   "cell_type": "code",
   "execution_count": null,
   "metadata": {},
   "outputs": [],
   "source": [
    "# Create KeyStageNodes from a list\n",
    "key_stages = [\n",
    "    neo_curriculum.KeyStageNode(key_stage_level=3, key_stage='KS3'),\n",
    "    neo_curriculum.KeyStageNode(key_stage_level=4, key_stage='KS4'),\n",
    "    neo_curriculum.KeyStageNode(key_stage_level=5, key_stage='KS5')\n",
    "]\n",
    "# Now create a routine to create key stages from a list\n",
    "for key_stage in key_stages:\n",
    "    neon.create_or_merge_neontology_node(key_stage, database=db_name, operation='create')\n"
   ]
  },
  {
   "cell_type": "code",
   "execution_count": null,
   "metadata": {},
   "outputs": [],
   "source": [
    "# Create SubjectNodes from a list\n",
    "subjects = [\n",
    "    neo_curriculum.SubjectNode(subject_id='SCI', subject_name='Science'),\n",
    "    neo_curriculum.SubjectNode(subject_id='PHY', subject_name='Physics'),\n",
    "    neo_curriculum.SubjectNode(subject_id='CHE', subject_name='Chemistry'),\n",
    "    neo_curriculum.SubjectNode(subject_id='BIO', subject_name='Biology'),\n",
    "    neo_curriculum.SubjectNode(subject_id='MAT', subject_name='Mathematics'),\n",
    "    neo_curriculum.SubjectNode(subject_id='ENG', subject_name='English'),\n",
    "    neo_curriculum.SubjectNode(subject_id='HIS', subject_name='History')\n",
    "]\n",
    "# Now create a routine to create subjects from a list\n",
    "for subject in subjects:\n",
    "    neon.create_or_merge_neontology_node(subject, database=db_name, operation='create')\n"
   ]
  },
  {
   "cell_type": "code",
   "execution_count": null,
   "metadata": {},
   "outputs": [],
   "source": [
    "excel_planner = planner.create_dataframes(os.getenv(\"EXCEL_PLANNER_FILE\"))\n",
    "\n",
    "topic_df = excel_planner['topiclookup_df']\n",
    "lesson_df = excel_planner['lessonlookup_df']\n",
    "statement_df = excel_planner['statementlookup_df']\n"
   ]
  },
  {
   "cell_type": "code",
   "execution_count": null,
   "metadata": {},
   "outputs": [],
   "source": [
    "topic_excel_node_list = []\n",
    "topic_excel_helper_list = []\n",
    "topic_lesson_excel_node_list = []\n",
    "topic_lesson_excel_helper_list = []\n",
    "learning_statement_excel_node_list = []\n",
    "learning_statement_excel_helper_list = []\n",
    "\n",
    "default_topic_values = {\n",
    "    'topic_assessment_type': 'Null'\n",
    "    }\n",
    "\n",
    "default_topic_lesson_values = {\n",
    "    'topic_lesson_title': 'Null',  # Corrected default value key\n",
    "    'topic_lesson_type': 'Null',  # Corrected default value key\n",
    "    'topic_lesson_length': 1,             # Corrected default value key\n",
    "    'topic_lesson_suggested_activities': 'Null',  # Corrected default value key\n",
    "    'topic_lesson_skills_learned': 'Null',  # Corrected default value key\n",
    "    'topic_lesson_weblinks': 'Null',   # Corrected default value key\n",
    "}\n",
    "\n",
    "default_learning_statement_values = {\n",
    "    # Add default values for fields that might contain NaN\n",
    "    'lesson_learning_statement': 'Null',\n",
    "    'lesson_learning_statement_type': 'Student learning outcome'\n",
    "}\n"
   ]
  },
  {
   "cell_type": "code",
   "execution_count": null,
   "metadata": {},
   "outputs": [],
   "source": [
    "# Process each topic and related lessons and statements\n",
    "for index, topic_row in topic_df.iterrows():\n",
    "    # Create TopicNode\n",
    "    topic_node_data = {\n",
    "        'topic_id': topic_row.get('TopicID'),\n",
    "        'topic_title': topic_row.get('TopicTitle'),\n",
    "        'total_number_of_lessons_for_topic': topic_row.get('TotalNumberOfLessonsForTopic'),\n",
    "        'topic_type': topic_row.get('TopicType'),\n",
    "        'topic_assessment_type': topic_row.get('TopicAssessmentType')\n",
    "    }\n",
    "    topic_node_data = planner.replace_nan_with_default(topic_node_data, default_topic_values)\n",
    "    topic_node = neo_curriculum.TopicNode(**topic_node_data)\n",
    "\n",
    "    try:\n",
    "        # Create or merge TopicNode in the database\n",
    "        neon.create_or_merge_neontology_node(topic_node, database=db_name, operation='merge')\n",
    "\n",
    "        # Process lessons for this topic\n",
    "        for lesson_index, lesson_row in lesson_df[lesson_df['TopicID'] == topic_row['TopicID']].iterrows():\n",
    "            lesson_node_data = {\n",
    "                'topic_lesson_id': lesson_row.get('LessonID'),\n",
    "                'topic_lesson_title': lesson_row.get('LessonTitle', default_topic_lesson_values['topic_lesson_title']),\n",
    "                'topic_lesson_type': lesson_row.get('TopicLessonType', default_topic_lesson_values['topic_lesson_type']),\n",
    "                'topic_lesson_length': lesson_row.get('SuggestedNumberOfPeriodsForLesson', default_topic_lesson_values['topic_lesson_length']),\n",
    "                'topic_lesson_suggested_activities': lesson_row.get('SuggestedActivities', default_topic_lesson_values['topic_lesson_suggested_activities']),\n",
    "                'topic_lesson_skills_learned': lesson_row.get('SkillsLearned', default_topic_lesson_values['topic_lesson_skills_learned']),\n",
    "                'topic_lesson_weblinks': lesson_row.get('TopicLessonWeblinks', default_topic_lesson_values['topic_lesson_weblinks'])\n",
    "            }\n",
    "            lesson_node_data = planner.replace_nan_with_default(lesson_node_data, default_topic_lesson_values)\n",
    "            lesson_node = neo_curriculum.TopicLessonNode(**lesson_node_data)\n",
    "\n",
    "            try:\n",
    "                # Create TopicLessonNode in the database\n",
    "                neon.create_or_merge_neontology_node(lesson_node, database=db_name, operation='merge')\n",
    "\n",
    "                # Process statements for this lesson\n",
    "                for statement_index, statement_row in statement_df[statement_df['LessonID'] == lesson_row['LessonID']].iterrows():\n",
    "                    statement_node_data = {\n",
    "                        'lesson_learning_statement_id': statement_row.get('StatementID'),\n",
    "                        'lesson_learning_statement': statement_row.get('LearningOutcomeStatement', default_learning_statement_values['lesson_learning_statement']),\n",
    "                        'lesson_learning_statement_type': statement_row.get('LearningStatementType', default_learning_statement_values['lesson_learning_statement_type'])\n",
    "                    }\n",
    "                    statement_node_data = planner.replace_nan_with_default(statement_node_data, default_learning_statement_values)\n",
    "                    statement_node = neo_curriculum.LearningStatementNode(**statement_node_data)\n",
    "\n",
    "                    try:\n",
    "                        # Create LearningStatementNode in the database\n",
    "                        neon.create_or_merge_neontology_node(statement_node, database=db_name, operation='merge')\n",
    "\n",
    "                        # Create relationships\n",
    "                        # Relationship between TopicNode and TopicLessonNode\n",
    "                        topic_has_lesson_relationship = neo_relationships.TopicIncludesTopicLesson(source=topic_node, target=lesson_node)\n",
    "                        neon.create_or_merge_neontology_relationship(topic_has_lesson_relationship, database=db_name, operation='merge')\n",
    "\n",
    "                        # Relationship between TopicLessonNode and LearningStatementNode\n",
    "                        statement_in_lesson_relationship = neo_relationships.LearningStatementPartOfTopicLesson(source=statement_node, target=lesson_node)\n",
    "                        neon.create_or_merge_neontology_relationship(statement_in_lesson_relationship, database=db_name, operation='merge')\n",
    "\n",
    "                    except ValidationError as e:\n",
    "                        logging.error(f\"Validation error for statement row {statement_index}: {e}\")\n",
    "\n",
    "            except ValidationError as e:\n",
    "                logging.error(f\"Validation error for lesson row {lesson_index}: {e}\")\n",
    "\n",
    "    except ValidationError as e:\n",
    "        logging.error(f\"Validation error for topic row {index}: {e}\")"
   ]
  }
 ],
 "metadata": {
  "kernelspec": {
   "display_name": "jupyter",
   "language": "python",
   "name": "python3"
  },
  "language_info": {
   "codemirror_mode": {
    "name": "ipython",
    "version": 3
   },
   "file_extension": ".py",
   "mimetype": "text/x-python",
   "name": "python",
   "nbconvert_exporter": "python",
   "pygments_lexer": "ipython3",
   "version": "3.12.3"
  }
 },
 "nbformat": 4,
 "nbformat_minor": 2
}

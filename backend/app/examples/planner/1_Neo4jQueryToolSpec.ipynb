{
 "cells": [
  {
   "cell_type": "markdown",
   "metadata": {},
   "source": [
    "https://github.com/run-llama/llama-hub/tree/8fa06e01f1ae72722cd77372fc1cf23e4ef37e08/llama_hub/tools/neo4j_db#readme\n"
   ]
  },
  {
   "cell_type": "code",
   "execution_count": null,
   "metadata": {},
   "outputs": [],
   "source": [
    "from llama_hub.tools.neo4j_db import Neo4jQueryToolSpec\n",
    "from llama_index.llms import OpenAI\n",
    "from llama_index.agent import OpenAIAgent\n",
    "\n",
    "llm = OpenAI(model=\"gpt-3.5-turbo-1106\",\n",
    "             openai_api_key=\"sk-\",\n",
    "             temperature=0\n",
    "             )\n",
    "\n",
    "gds_db = Neo4jQueryToolSpec(\n",
    "    url=\"\",\n",
    "    user=\"neo4j\",\n",
    "    password=\"\",\n",
    "    llm=llm,\n",
    "    database='neo4j'\n",
    ")\n",
    "\n",
    "tools = gds_db.to_tool_list()\n",
    "agent = OpenAIAgent.from_tools(tools, verbose=True)"
   ]
  },
  {
   "cell_type": "code",
   "execution_count": null,
   "metadata": {},
   "outputs": [],
   "source": [
    "prompt = \"It is 15th January 2024. What lessons are there today?\"\n",
    "\n",
    "response = agent.chat(prompt)\n",
    "print(response)"
   ]
  },
  {
   "cell_type": "code",
   "execution_count": null,
   "metadata": {},
   "outputs": [],
   "source": [
    "prompt = \"It is 15th January 2024. What lessons does KCA have to plan for today?\"\n",
    "\n",
    "response = agent.chat(prompt)\n",
    "print(response)"
   ]
  }
 ],
 "metadata": {
  "kernelspec": {
   "display_name": "dev",
   "language": "python",
   "name": "python3"
  },
  "language_info": {
   "codemirror_mode": {
    "name": "ipython",
    "version": 3
   },
   "file_extension": ".py",
   "mimetype": "text/x-python",
   "name": "python",
   "nbconvert_exporter": "python",
   "pygments_lexer": "ipython3",
   "version": "3.11.5"
  }
 },
 "nbformat": 4,
 "nbformat_minor": 2
}
